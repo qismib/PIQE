{
 "cells": [
  {
   "cell_type": "code",
   "execution_count": 1,
   "id": "after-study",
   "metadata": {},
   "outputs": [],
   "source": [
    "# In questo juoyter notebook si mostra come implementare le tecniche di calibrazione\n",
    "# mostrate nel tutorial https://qiskit.org/textbook/ch-quantum-hardware/calibrating-qubits-pulse.html\n",
    "# per backend che non supportano Pulse.\n",
    "# A questo fine, sono state apportate al tutorial le minime modifiche necessarie."
   ]
  },
  {
   "cell_type": "code",
   "execution_count": 2,
   "id": "invisible-yahoo",
   "metadata": {},
   "outputs": [],
   "source": [
    "from qiskit import *\n",
    "from qiskit.tools.jupyter import *\n",
    "from qiskit import IBMQ\n",
    "from qiskit import pulse\n",
    "from qiskit.pulse.library import Gaussian\n",
    "from qiskit import QuantumCircuit\n",
    "from qiskit import transpile\n",
    "from qiskit.visualization import plot_histogram\n",
    "from qiskit.tools.monitor import job_monitor\n",
    "from qiskit.circuit import Parameter\n",
    "\n",
    "import numpy as np\n",
    "\n",
    "IBMQ.load_account()\n",
    "provider = IBMQ.get_provider(hub='ibm-q-research-2', group='uni-milano-bicoc-1', project='main')"
   ]
  },
  {
   "cell_type": "code",
   "execution_count": 11,
   "id": "twenty-accuracy",
   "metadata": {},
   "outputs": [],
   "source": [
    "#Scelta del backend di lavoro\n",
    "backend = provider.get_backend('ibmq_jakarta')\n",
    "backend_config = backend.configuration()"
   ]
  },
  {
   "cell_type": "code",
   "execution_count": 12,
   "id": "insured-expression",
   "metadata": {},
   "outputs": [],
   "source": [
    "dt = backend_config.dt\n",
    "backend_defaults = backend.defaults()\n",
    "\n",
    "GHz = 1.0e9 # Gigahertz\n",
    "MHz = 1.0e6 # Megahertz\n",
    "us = 1.0e-6 # Microseconds\n",
    "ns = 1.0e-9 # Nanoseconds\n",
    "\n",
    "qubit = 0   # qubit che studiamo\n",
    "mem_slot = 0    # Memory slot\n",
    "\n",
    "# Centro della finestra di sweep. Frequenza espressa in Hertz\n",
    "qubit_freq = backend_defaults.qubit_freq_est[qubit]\n",
    "\n",
    "# Fattore di scala (per comodità)\n",
    "scale_factor = 1e-14\n",
    "\n",
    "# Siccome i samples devono essere in numero multiplo di 16, definisco una funzione\n",
    "def get_closest_multiple_of_16(num):\n",
    "    return int(num + 8 ) - (int(num + 8 ) % 16)\n",
    "\n",
    "# Drive pulse parameters (us = microseconds)\n",
    "drive_sigma_sec = 0.010 * us                            # This determines the actual width of the gaussian\n",
    "drive_duration_sec = drive_sigma_sec * 8                # This is a truncating parameter, because gaussians don't have \n",
    "                                                        # a natural finite length\n",
    "drive_amp = 0.05"
   ]
  },
  {
   "cell_type": "code",
   "execution_count": 13,
   "id": "shared-ethiopia",
   "metadata": {},
   "outputs": [
    {
     "name": "stdout",
     "output_type": "stream",
     "text": [
      "Qubit 0 has an estimated frequency of 5.236358788120644 GHz.\n"
     ]
    }
   ],
   "source": [
    "print(f\"Qubit {qubit} has an estimated frequency of {qubit_freq / GHz} GHz.\")"
   ]
  },
  {
   "cell_type": "code",
   "execution_count": 14,
   "id": "soviet-possession",
   "metadata": {},
   "outputs": [],
   "source": [
    "#CALIBRATING AND USING A PI_PULSE ( 3 )"
   ]
  },
  {
   "cell_type": "code",
   "execution_count": 15,
   "id": "pacific-scholar",
   "metadata": {},
   "outputs": [],
   "source": [
    "# Rabi experiment parameters\n",
    "num_rabi_points = 60\n",
    "\n",
    "# Drive amplitude values to iterate over: 60 amplitudes evenly spaced from 0 to 0.98\n",
    "drive_amp_min = 0\n",
    "drive_amp_max = 0.98\n",
    "drive_amps = np.linspace(drive_amp_min, drive_amp_max, 60) "
   ]
  },
  {
   "cell_type": "code",
   "execution_count": 16,
   "id": "formal-monkey",
   "metadata": {},
   "outputs": [],
   "source": [
    "# Nella cella successiva dichiaro una stringa di quantum circuit ognuno composto da un singolo impulso\n",
    "# e una misurazione. Per ogni circuito l'ampiezza dell'impulso sarà diversa. Il job esegue ogni circuito 1000 volte."
   ]
  },
  {
   "cell_type": "code",
   "execution_count": 17,
   "id": "dominant-elimination",
   "metadata": {},
   "outputs": [
    {
     "name": "stdout",
     "output_type": "stream",
     "text": [
      "Job Status: job has successfully run\n"
     ]
    }
   ],
   "source": [
    "qc_ts = []\n",
    "for a in drive_amps:\n",
    "    qc = QuantumCircuit(1,1)\n",
    "    qc.x(0)\n",
    "    qc.measure(0,0)\n",
    "    with pulse.build(backend=backend, default_alignment='sequential', name='Rabi Experiment') as rabi_sched:\n",
    "        drive_duration = get_closest_multiple_of_16(pulse.seconds_to_samples(drive_duration_sec))\n",
    "        drive_sigma = pulse.seconds_to_samples(drive_sigma_sec)\n",
    "        drive_chan = pulse.drive_channel(qubit)\n",
    "        pulse.set_frequency(qubit_freq, drive_chan)\n",
    "        pulse.play(pulse.Gaussian(duration=drive_duration,\n",
    "                              amp=a,\n",
    "                              sigma=drive_sigma,\n",
    "                              name='Rabi Pulse'), drive_chan)\n",
    "    \n",
    "    qc.add_calibration('x', [0], rabi_sched)\n",
    "    qc_t = transpile(qc , backend)\n",
    "    qc_ts.append(qc_t)\n",
    "\n",
    "job = backend.run(qc_ts, shots=1000)\n",
    "job_monitor(job)\n",
    "\n",
    "result = job.result()"
   ]
  },
  {
   "cell_type": "code",
   "execution_count": 18,
   "id": "universal-archive",
   "metadata": {},
   "outputs": [
    {
     "name": "stdout",
     "output_type": "stream",
     "text": [
      "{'0': 991, '1': 9}\n",
      "{'0': 949, '1': 51}\n",
      "{'0': 861, '1': 139}\n",
      "{'0': 719, '1': 281}\n",
      "{'0': 506, '1': 494}\n",
      "{'0': 316, '1': 684}\n",
      "{'0': 173, '1': 827}\n",
      "{'0': 73, '1': 927}\n",
      "{'0': 23, '1': 977}\n",
      "{'0': 61, '1': 939}\n",
      "{'0': 172, '1': 828}\n",
      "{'0': 331, '1': 669}\n",
      "{'0': 516, '1': 484}\n",
      "{'0': 719, '1': 281}\n",
      "{'0': 879, '1': 121}\n",
      "{'0': 948, '1': 52}\n",
      "{'0': 979, '1': 21}\n",
      "{'0': 945, '1': 55}\n",
      "{'0': 832, '1': 168}\n",
      "{'0': 688, '1': 312}\n",
      "{'0': 463, '1': 537}\n",
      "{'0': 307, '1': 693}\n",
      "{'0': 140, '1': 860}\n",
      "{'0': 73, '1': 927}\n",
      "{'0': 31, '1': 969}\n",
      "{'0': 105, '1': 895}\n",
      "{'0': 200, '1': 800}\n",
      "{'0': 353, '1': 647}\n",
      "{'0': 546, '1': 454}\n",
      "{'0': 716, '1': 284}\n",
      "{'0': 847, '1': 153}\n",
      "{'0': 946, '1': 54}\n",
      "{'0': 992, '1': 8}\n",
      "{'0': 961, '1': 39}\n",
      "{'0': 861, '1': 139}\n",
      "{'0': 665, '1': 335}\n",
      "{'0': 540, '1': 460}\n",
      "{'0': 331, '1': 669}\n",
      "{'0': 177, '1': 823}\n",
      "{'0': 72, '1': 928}\n",
      "{'0': 37, '1': 963}\n",
      "{'0': 62, '1': 938}\n",
      "{'0': 149, '1': 851}\n",
      "{'0': 273, '1': 727}\n",
      "{'0': 413, '1': 587}\n",
      "{'0': 617, '1': 383}\n",
      "{'0': 787, '1': 213}\n",
      "{'0': 915, '1': 85}\n",
      "{'0': 968, '1': 32}\n",
      "{'0': 987, '1': 13}\n",
      "{'0': 933, '1': 67}\n",
      "{'0': 809, '1': 191}\n",
      "{'0': 679, '1': 321}\n",
      "{'0': 530, '1': 470}\n",
      "{'0': 320, '1': 680}\n",
      "{'0': 184, '1': 816}\n",
      "{'0': 69, '1': 931}\n",
      "{'0': 36, '1': 964}\n",
      "{'0': 41, '1': 959}\n",
      "{'0': 108, '1': 892}\n"
     ]
    }
   ],
   "source": [
    "# Questa cella serve solo per farsi un'idea di come sono organizzati i risultati del Job\n",
    "counts = result.get_counts(qc_t)\n",
    "for i in range(len(qc_ts)):\n",
    "    counts = result.get_counts(qc_ts[i])\n",
    "    print(counts)"
   ]
  },
  {
   "cell_type": "code",
   "execution_count": 19,
   "id": "hungarian-insulation",
   "metadata": {},
   "outputs": [
    {
     "name": "stdout",
     "output_type": "stream",
     "text": [
      "Job Status: job has successfully run\n"
     ]
    }
   ],
   "source": [
    "#Altro modo per dichiarare il job\n",
    "job = backend.run(qc_ts, meas_level=1, meas_return='avg', shots=1000)\n",
    "job_monitor(job)\n",
    "\n",
    "result = job.result()"
   ]
  },
  {
   "cell_type": "code",
   "execution_count": 20,
   "id": "available-underwear",
   "metadata": {},
   "outputs": [],
   "source": [
    "# Recupero i risultati\n",
    "frequency_sweep_results = job.result(timeout=120) # timeout parameter set to 120 seconds"
   ]
  },
  {
   "cell_type": "code",
   "execution_count": 21,
   "id": "polished-tracy",
   "metadata": {},
   "outputs": [],
   "source": [
    "# Estraggo i risultati e li plotto\n",
    "import matplotlib.pyplot as plt\n",
    "\n",
    "def baseline_remove(values):\n",
    "    return np.array(values) - np.mean(values)"
   ]
  },
  {
   "cell_type": "code",
   "execution_count": 22,
   "id": "gorgeous-measurement",
   "metadata": {
    "scrolled": true
   },
   "outputs": [
    {
     "data": {
      "image/png": "[encoded data removed]",
      "text/plain": [
       "<Figure size 432x288 with 1 Axes>"
      ]
     },
     "metadata": {
      "needs_background": "light"
     },
     "output_type": "display_data"
    }
   ],
   "source": [
    "\n",
    "rabi_values = []\n",
    "for i in range(60):\n",
    "    # Get the results for `qubit` from the ith experiment\n",
    "    rabi_values.append(result.get_memory(i)[qubit] * scale_factor)\n",
    "\n",
    "rabi_values = np.real(baseline_remove(rabi_values))\n",
    "\n",
    "plt.xlabel(\"Drive amp [a.u.]\")\n",
    "plt.ylabel(\"Measured signal [a.u.]\")\n",
    "plt.scatter(drive_amps, rabi_values, color='black') # plot real part of Rabi values\n",
    "plt.show()"
   ]
  },
  {
   "cell_type": "code",
   "execution_count": 23,
   "id": "alternative-while",
   "metadata": {},
   "outputs": [],
   "source": [
    "from scipy.optimize import curve_fit\n",
    "\n",
    "def fit_function(x_values, y_values, function, init_params):\n",
    "    fitparams, conv = curve_fit(function, x_values, y_values, init_params)\n",
    "    y_fit = function(x_values, *fitparams)\n",
    "    \n",
    "    return fitparams, y_fit"
   ]
  },
  {
   "cell_type": "code",
   "execution_count": 24,
   "id": "particular-carry",
   "metadata": {},
   "outputs": [
    {
     "data": {
      "image/png": "[encoded data removed]",
      "text/plain": [
       "<Figure size 432x288 with 1 Axes>"
      ]
     },
     "metadata": {
      "needs_background": "light"
     },
     "output_type": "display_data"
    }
   ],
   "source": [
    "# Ora fitto questi dati con una sinusoide. Attenzione ai parametri di fit: cambiano notevolmente tra backend diversi\n",
    "# e per durate di umpulso diverse.\n",
    "fit_params, y_fit = fit_function(drive_amps,\n",
    "                                 rabi_values, \n",
    "                                 lambda x, A, B, drive_period, phi: (A*np.cos(2*np.pi*x/drive_period - phi) + B),\n",
    "                                 [-3e-7, 0.01, 0.2, 0])\n",
    "\n",
    "plt.scatter(drive_amps, rabi_values, color='black')\n",
    "plt.plot(drive_amps, y_fit, color='red')\n",
    "\n",
    "drive_period = fit_params[2] # get period of rabi oscillation\n",
    "\n",
    "plt.axvline(drive_period/2, color='red', linestyle='--')\n",
    "plt.axvline(drive_period, color='red', linestyle='--')\n",
    "plt.annotate(\"\", xy=(drive_period, 0), xytext=(drive_period/2,0), arrowprops=dict(arrowstyle=\"<->\", color='red'))\n",
    "plt.annotate(\"$\\pi$\", xy=(drive_period/2-0.03, 0.1), color='red')\n",
    "\n",
    "plt.xlabel(\"Drive amp [a.u.]\", fontsize=15)\n",
    "plt.ylabel(\"Measured signal [a.u.]\", fontsize=15)\n",
    "#plt.savefig('Amp_pi.png')\n",
    "plt.show()"
   ]
  },
  {
   "cell_type": "code",
   "execution_count": 25,
   "id": "boolean-apartment",
   "metadata": {},
   "outputs": [
    {
     "name": "stdout",
     "output_type": "stream",
     "text": [
      "Pi Amplitude = 0.0982543600206152\n"
     ]
    }
   ],
   "source": [
    "pi_amp = abs(drive_period / 2)\n",
    "print(f\"Pi Amplitude = {pi_amp}\")"
   ]
  },
  {
   "cell_type": "code",
   "execution_count": 26,
   "id": "desirable-sacrifice",
   "metadata": {},
   "outputs": [],
   "source": [
    "# Definisco il mio impulso in base ai risultati appena ottenuti!!\n",
    "with pulse.build(backend) as pi_pulse:\n",
    "    drive_duration = get_closest_multiple_of_16(pulse.seconds_to_samples(drive_duration_sec))\n",
    "    drive_sigma = pulse.seconds_to_samples(drive_sigma_sec)\n",
    "    drive_chan = pulse.drive_channel(qubit)\n",
    "    pulse.play(pulse.Gaussian(duration=drive_duration,        #Impulso gaussiano coi parametri ottenuti\n",
    "                              amp=pi_amp,\n",
    "                              sigma=drive_sigma,\n",
    "                              name='pi_pulse'), drive_chan)"
   ]
  },
  {
   "cell_type": "code",
   "execution_count": 27,
   "id": "lined-apparatus",
   "metadata": {},
   "outputs": [],
   "source": [
    "# Ora creo un circuito che usa come X gate la mia calibrazione\n",
    "qc = QuantumCircuit(1,1)\n",
    "qc.x(0)\n",
    "qc.measure(0,0)\n",
    "qc.add_calibration('x', [0], pi_pulse)"
   ]
  }
 ],
 "metadata": {
  "kernelspec": {
   "display_name": "Python 3",
   "language": "python",
   "name": "python3"
  },
  "language_info": {
   "codemirror_mode": {
    "name": "ipython",
    "version": 3
   },
   "file_extension": ".py",
   "mimetype": "text/x-python",
   "name": "python",
   "nbconvert_exporter": "python",
   "pygments_lexer": "ipython3",
   "version": "3.9.5"
  }
 },
 "nbformat": 4,
 "nbformat_minor": 5
}
